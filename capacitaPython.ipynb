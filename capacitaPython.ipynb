{
  "nbformat": 4,
  "nbformat_minor": 0,
  "metadata": {
    "colab": {
      "provenance": [],
      "toc_visible": true,
      "authorship_tag": "ABX9TyP0FiceMDCIPGDOlOeDKJH/",
      "include_colab_link": true
    },
    "kernelspec": {
      "name": "python3",
      "display_name": "Python 3"
    },
    "language_info": {
      "name": "python"
    }
  },
  "cells": [
    {
      "cell_type": "markdown",
      "metadata": {
        "id": "view-in-github",
        "colab_type": "text"
      },
      "source": [
        "<a href=\"https://colab.research.google.com/github/joaopedrocerqueira1305-ops/capacitaPhyton/blob/main/capacitaPython.ipynb\" target=\"_parent\"><img src=\"https://colab.research.google.com/assets/colab-badge.svg\" alt=\"Open In Colab\"/></a>"
      ]
    },
    {
      "cell_type": "markdown",
      "source": [
        "# Exercircio 1"
      ],
      "metadata": {
        "id": "CKl8frOQFbwx"
      }
    },
    {
      "cell_type": "code",
      "execution_count": null,
      "metadata": {
        "colab": {
          "base_uri": "https://localhost:8080/"
        },
        "id": "uBCAfDFd8XAu",
        "outputId": "d9ff5e5a-394a-4a8a-b54d-9f762034de12"
      },
      "outputs": [
        {
          "output_type": "stream",
          "name": "stdout",
          "text": [
            "digite o nome: joao\n",
            "digite o sobrenome: pedro\n",
            "digite o primero número inteiro:\n",
            "4\n",
            "digite o segundo número inteiro:\n",
            "3\n",
            "4 + 3 = 7\n",
            "seu nome é: joao pedro\n"
          ]
        }
      ],
      "source": [
        "# comentario\n",
        "nome = input(\"digite o nome: \")\n",
        "sobrenome = input(\"digite o sobrenome: \")\n",
        "a = int(input(\"digite o primero número inteiro:\\n\"))\n",
        "b = int(input(\"digite o segundo número inteiro:\\n\"))\n",
        "print(a , \"+\", b, \"=\", a+b)\n",
        "print(\"seu nome é:\", nome , sobrenome)"
      ]
    },
    {
      "cell_type": "code",
      "source": [
        "ano = int(input(\"Defina o ano atual: \"))\n",
        "nascimento = int(input(\"Digite o ano de seu nascimento: \"))\n",
        "print(\"Vocé tem\", ano-nascimento ,\"anos!\")"
      ],
      "metadata": {
        "colab": {
          "base_uri": "https://localhost:8080/"
        },
        "id": "uxSUZH-pRWkZ",
        "outputId": "bc99817c-fd6b-4b21-ef13-c0c9d7136d61"
      },
      "execution_count": 2,
      "outputs": [
        {
          "output_type": "stream",
          "name": "stdout",
          "text": [
            "Defina o ano atual: 2025\n",
            "Digite o ano de seu nascimento: 2005\n",
            "Vocé tem 20 anos!\n"
          ]
        }
      ]
    },
    {
      "cell_type": "code",
      "source": [
        "peso = float(input(\"Digite o seu peso: \"))\n",
        "altura = float(input(\"Digite a sua altura: \"))\n",
        "imc = peso/(altura*altura)\n",
        "print(\"Seu IMC é:\", imc)"
      ],
      "metadata": {
        "colab": {
          "base_uri": "https://localhost:8080/"
        },
        "id": "3WyPIUTucFIs",
        "outputId": "b7faba96-821e-4d7c-87fd-ec4951d37911"
      },
      "execution_count": null,
      "outputs": [
        {
          "output_type": "stream",
          "name": "stdout",
          "text": [
            "Digite o seu peso: 49\n",
            "Digite a sua altura: 1.75\n",
            "Seu IMC é: 16.0\n"
          ]
        }
      ]
    },
    {
      "cell_type": "markdown",
      "source": [
        "# Exercicio 2\n",
        "\n"
      ],
      "metadata": {
        "id": "Aw4XeCV7rEk_"
      }
    },
    {
      "cell_type": "code",
      "source": [
        "palavra = \"muito legal\"\n",
        "print(\"kk\"*3 + palavra, \"foda\" + palavra[4] + palavra[5:11] , type(palavra))\n",
        "print(f\"A palavra é {palavra} esse codigo\")"
      ],
      "metadata": {
        "colab": {
          "base_uri": "https://localhost:8080/"
        },
        "id": "CS9_IBWarNxT",
        "outputId": "380a0fd3-fc61-469b-f61b-f33637c815ae"
      },
      "execution_count": 10,
      "outputs": [
        {
          "output_type": "stream",
          "name": "stdout",
          "text": [
            "kkkkkkmuito legal fodao legal <class 'str'>\n",
            "A palavra é muito legal esse codigo\n"
          ]
        }
      ]
    },
    {
      "cell_type": "code",
      "source": [
        "idade = 18\n",
        "print(idade > 18)\n",
        "print(int(idade > 18))"
      ],
      "metadata": {
        "colab": {
          "base_uri": "https://localhost:8080/"
        },
        "id": "mR634Fu5GUu8",
        "outputId": "48777c02-7f0a-48a9-ed7f-6617fedd110a"
      },
      "execution_count": 24,
      "outputs": [
        {
          "output_type": "stream",
          "name": "stdout",
          "text": [
            "False\n",
            "0\n"
          ]
        }
      ]
    },
    {
      "cell_type": "code",
      "source": [
        "qntTotal = 0\n",
        "\n",
        "qntLivro = int(input(\"Digite a quantidade de livros do dia 1: \"))\n",
        "qntTotal += qntLivro\n",
        "\n",
        "qntLivro = int(input(\"Digite a quantidade de livros do dia 2: \"))\n",
        "qntTotal += qntLivro\n",
        "\n",
        "qntLivro = int(input(\"Digite a quantidade de livros do dia 3: \"))\n",
        "qntTotal += qntLivro\n",
        "\n",
        "qntLivro = int(input(\"Digite a quantidade de livros do dia 4: \"))\n",
        "qntTotal += qntLivro\n",
        "\n",
        "qntLivro = int(input(\"Digite a quantidade de livros do dia 5: \"))\n",
        "qntTotal += qntLivro\n",
        "print(\"Quantidade total de livros:\", qntTotal)\n",
        "print(\"Media da quantidade total de livros:\", qntTotal/5)"
      ],
      "metadata": {
        "colab": {
          "base_uri": "https://localhost:8080/"
        },
        "id": "2W9JBUlIXrUm",
        "outputId": "17782fc2-e471-4750-aa1a-c49aa315e32c"
      },
      "execution_count": 36,
      "outputs": [
        {
          "output_type": "stream",
          "name": "stdout",
          "text": [
            "Digite a quantidade de livros do dia 1: 3\n",
            "Digite a quantidade de livros do dia 2: 5\n",
            "Digite a quantidade de livros do dia 3: 2\n",
            "Digite a quantidade de livros do dia 4: 3\n",
            "Digite a quantidade de livros do dia 5: 3\n",
            "Quantidade total de livros: 16\n",
            "Media da quantidade total de livros: 3.2\n"
          ]
        }
      ]
    },
    {
      "cell_type": "code",
      "source": [
        "livrosDevolvidos = int(input(\"digite a quantidade de livros devolvidos: \"))\n",
        "diasAtrasados = int(input(\"digite quantos dias de atraso: \"))\n",
        "print(\"Voce esta devendo\", (livrosDevolvidos*2*diasAtrasados) + (3*diasAtrasados), \"reais de multa\")"
      ],
      "metadata": {
        "colab": {
          "base_uri": "https://localhost:8080/"
        },
        "id": "R5lONi2Yfo4u",
        "outputId": "6eaf7b89-6b41-4c03-9fb6-4f2173c2ecaf"
      },
      "execution_count": 48,
      "outputs": [
        {
          "output_type": "stream",
          "name": "stdout",
          "text": [
            "digite a quantidade de livros devolvidos: 2\n",
            "digite quantos dias de atraso: 2\n",
            "Voce esta devendo 14 reais de multa\n"
          ]
        }
      ]
    },
    {
      "cell_type": "code",
      "source": [
        "#Receber o ano de nascimento do usuário\n",
        "ano_nascimento = int(input(\"Informe seu ano de nascimento com 4 dígitos, Ex.: 1980 \"))\n",
        "#definir o ano atual\n",
        "ano_atual = 2025\n",
        "#Calcular a idade\n",
        "resultado = ano_atual-ano_nascimento\n",
        "#imprimir o resultado\n",
        "print(\"Você tem \",resultado,\"anos\")"
      ],
      "metadata": {
        "colab": {
          "base_uri": "https://localhost:8080/"
        },
        "id": "QEdH-nYzhBJU",
        "outputId": "d2dfe7f8-f3eb-4cd5-9c6f-5384129df4df"
      },
      "execution_count": 43,
      "outputs": [
        {
          "output_type": "stream",
          "name": "stdout",
          "text": [
            "Informe seu ano de nascimento com 4 dígitos, Ex.: 1980 2005\n",
            "Você tem  20 anos\n"
          ]
        }
      ]
    },
    {
      "cell_type": "code",
      "source": [
        "livrosDevolvidos = int(input(\"digite a quantidade de livros devolvidos: \"))\n",
        "diasAtrasados = int(input(\"digite quantos dias de atraso: \"))\n",
        "atrasado = diasAtrasados > 0\n",
        "print(\"Voce esta devendo\", (livrosDevolvidos*2*atrasado) + (3*diasAtrasados), \"reais de multa\")"
      ],
      "metadata": {
        "colab": {
          "base_uri": "https://localhost:8080/"
        },
        "id": "9DASocDKmY5V",
        "outputId": "98f0d913-f3b2-45af-db50-4e7bdf0fc842"
      },
      "execution_count": 50,
      "outputs": [
        {
          "output_type": "stream",
          "name": "stdout",
          "text": [
            "digite a quantidade de livros devolvidos: 2\n",
            "digite quantos dias de atraso: 0\n",
            "Voce esta devendo 0 reais de multa\n"
          ]
        }
      ]
    }
  ]
}